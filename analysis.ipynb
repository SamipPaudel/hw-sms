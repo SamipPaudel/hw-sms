{
 "cells": [
  {
   "cell_type": "code",
   "execution_count": 14,
   "id": "30d6a0fe",
   "metadata": {},
   "outputs": [],
   "source": [
    "import pandas as pd"
   ]
  },
  {
   "cell_type": "code",
   "execution_count": 26,
   "id": "efc9044e",
   "metadata": {},
   "outputs": [],
   "source": [
    "df = pd.read_csv('student_details.csv')"
   ]
  },
  {
   "cell_type": "code",
   "execution_count": 27,
   "id": "567b57a0",
   "metadata": {},
   "outputs": [
    {
     "data": {
      "text/html": [
       "<div>\n",
       "<style scoped>\n",
       "    .dataframe tbody tr th:only-of-type {\n",
       "        vertical-align: middle;\n",
       "    }\n",
       "\n",
       "    .dataframe tbody tr th {\n",
       "        vertical-align: top;\n",
       "    }\n",
       "\n",
       "    .dataframe thead th {\n",
       "        text-align: right;\n",
       "    }\n",
       "</style>\n",
       "<table border=\"1\" class=\"dataframe\">\n",
       "  <thead>\n",
       "    <tr style=\"text-align: right;\">\n",
       "      <th></th>\n",
       "      <th>Unnamed: 0</th>\n",
       "      <th>Student_ID</th>\n",
       "      <th>Name</th>\n",
       "      <th>Class</th>\n",
       "      <th>Section</th>\n",
       "      <th>Roll</th>\n",
       "      <th>DOB</th>\n",
       "      <th>Address</th>\n",
       "      <th>Contact</th>\n",
       "      <th>Email</th>\n",
       "      <th>Date Joined</th>\n",
       "    </tr>\n",
       "  </thead>\n",
       "  <tbody>\n",
       "    <tr>\n",
       "      <th>0</th>\n",
       "      <td>0</td>\n",
       "      <td>77777</td>\n",
       "      <td>Mr. Human</td>\n",
       "      <td>12</td>\n",
       "      <td>E</td>\n",
       "      <td>99</td>\n",
       "      <td>2006</td>\n",
       "      <td>Butwal</td>\n",
       "      <td>999999999</td>\n",
       "      <td>mr.human@gmail.com</td>\n",
       "      <td>2020</td>\n",
       "    </tr>\n",
       "    <tr>\n",
       "      <th>1</th>\n",
       "      <td>1</td>\n",
       "      <td>116</td>\n",
       "      <td>Sanjay</td>\n",
       "      <td>8</td>\n",
       "      <td>E</td>\n",
       "      <td>13</td>\n",
       "      <td>2005</td>\n",
       "      <td>Butwal</td>\n",
       "      <td>999999999</td>\n",
       "      <td>johndoe@gmail.com</td>\n",
       "      <td>2022</td>\n",
       "    </tr>\n",
       "  </tbody>\n",
       "</table>\n",
       "</div>"
      ],
      "text/plain": [
       "   Unnamed: 0  Student_ID       Name  Class Section  Roll   DOB Address  \\\n",
       "0           0       77777  Mr. Human     12       E    99  2006  Butwal   \n",
       "1           1         116     Sanjay      8       E    13  2005  Butwal   \n",
       "\n",
       "     Contact               Email  Date Joined  \n",
       "0  999999999  mr.human@gmail.com         2020  \n",
       "1  999999999   johndoe@gmail.com         2022  "
      ]
     },
     "execution_count": 27,
     "metadata": {},
     "output_type": "execute_result"
    }
   ],
   "source": [
    "df\n"
   ]
  },
  {
   "cell_type": "code",
   "execution_count": 31,
   "id": "39263e1a",
   "metadata": {},
   "outputs": [],
   "source": [
    "del df['Unnamed: 0']"
   ]
  },
  {
   "cell_type": "code",
   "execution_count": null,
   "id": "cfc0921c",
   "metadata": {},
   "outputs": [],
   "source": []
  },
  {
   "cell_type": "code",
   "execution_count": 32,
   "id": "c26ebf41",
   "metadata": {},
   "outputs": [
    {
     "data": {
      "text/html": [
       "<div>\n",
       "<style scoped>\n",
       "    .dataframe tbody tr th:only-of-type {\n",
       "        vertical-align: middle;\n",
       "    }\n",
       "\n",
       "    .dataframe tbody tr th {\n",
       "        vertical-align: top;\n",
       "    }\n",
       "\n",
       "    .dataframe thead th {\n",
       "        text-align: right;\n",
       "    }\n",
       "</style>\n",
       "<table border=\"1\" class=\"dataframe\">\n",
       "  <thead>\n",
       "    <tr style=\"text-align: right;\">\n",
       "      <th></th>\n",
       "      <th>Student_ID</th>\n",
       "      <th>Name</th>\n",
       "      <th>Class</th>\n",
       "      <th>Section</th>\n",
       "      <th>Roll</th>\n",
       "      <th>DOB</th>\n",
       "      <th>Address</th>\n",
       "      <th>Contact</th>\n",
       "      <th>Email</th>\n",
       "      <th>Date Joined</th>\n",
       "    </tr>\n",
       "  </thead>\n",
       "  <tbody>\n",
       "    <tr>\n",
       "      <th>0</th>\n",
       "      <td>77777</td>\n",
       "      <td>Mr. Human</td>\n",
       "      <td>12</td>\n",
       "      <td>E</td>\n",
       "      <td>99</td>\n",
       "      <td>2006</td>\n",
       "      <td>Butwal</td>\n",
       "      <td>999999999</td>\n",
       "      <td>mr.human@gmail.com</td>\n",
       "      <td>2020</td>\n",
       "    </tr>\n",
       "    <tr>\n",
       "      <th>1</th>\n",
       "      <td>116</td>\n",
       "      <td>Sanjay</td>\n",
       "      <td>8</td>\n",
       "      <td>E</td>\n",
       "      <td>13</td>\n",
       "      <td>2005</td>\n",
       "      <td>Butwal</td>\n",
       "      <td>999999999</td>\n",
       "      <td>johndoe@gmail.com</td>\n",
       "      <td>2022</td>\n",
       "    </tr>\n",
       "  </tbody>\n",
       "</table>\n",
       "</div>"
      ],
      "text/plain": [
       "   Student_ID       Name  Class Section  Roll   DOB Address    Contact  \\\n",
       "0       77777  Mr. Human     12       E    99  2006  Butwal  999999999   \n",
       "1         116     Sanjay      8       E    13  2005  Butwal  999999999   \n",
       "\n",
       "                Email  Date Joined  \n",
       "0  mr.human@gmail.com         2020  \n",
       "1   johndoe@gmail.com         2022  "
      ]
     },
     "execution_count": 32,
     "metadata": {},
     "output_type": "execute_result"
    }
   ],
   "source": [
    "df"
   ]
  },
  {
   "cell_type": "code",
   "execution_count": 24,
   "id": "b8386116",
   "metadata": {},
   "outputs": [],
   "source": [
    "df.to_csv('student_details.csv')"
   ]
  },
  {
   "cell_type": "code",
   "execution_count": null,
   "id": "00146b63",
   "metadata": {},
   "outputs": [],
   "source": []
  }
 ],
 "metadata": {
  "kernelspec": {
   "display_name": "Python 3 (ipykernel)",
   "language": "python",
   "name": "python3"
  },
  "language_info": {
   "codemirror_mode": {
    "name": "ipython",
    "version": 3
   },
   "file_extension": ".py",
   "mimetype": "text/x-python",
   "name": "python",
   "nbconvert_exporter": "python",
   "pygments_lexer": "ipython3",
   "version": "3.10.6"
  }
 },
 "nbformat": 4,
 "nbformat_minor": 5
}
